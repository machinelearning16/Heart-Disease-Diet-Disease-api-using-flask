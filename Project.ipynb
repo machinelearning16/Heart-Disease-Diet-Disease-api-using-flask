{
 "cells": [
  {
   "cell_type": "code",
   "execution_count": 1,
   "metadata": {
    "collapsed": true
   },
   "outputs": [],
   "source": [
    "from flask import Flask\n",
    "from flask import Flask, flash, redirect, render_template, request, session, abort\n",
    "import os\n",
    "import pickle\n",
    "import pandas as pd\n",
    "import os\n",
    "import numpy as np\n",
    "from sklearn.externals import joblib"
   ]
  },
  {
   "cell_type": "code",
   "execution_count": 2,
   "metadata": {
    "collapsed": false
   },
   "outputs": [],
   "source": [
    "# Preparing the Classifier\n",
    "clf = joblib.load('pkl_objects/heart_classifier.pkl')\n",
    "clf1 = joblib.load('pkl_objects/disease_classifier.pkl')"
   ]
  },
  {
   "cell_type": "code",
   "execution_count": null,
   "metadata": {
    "collapsed": false
   },
   "outputs": [
    {
     "name": "stderr",
     "output_type": "stream",
     "text": [
      " * Running on http://127.0.0.1:5000/ (Press CTRL+C to quit)\n"
     ]
    }
   ],
   "source": [
    "app = Flask(__name__)\n",
    " \n",
    "@app.route('/')\n",
    "def home():\n",
    "    if not session.get('logged_in'):\n",
    "        return render_template('login.html')\n",
    "    else:\n",
    "        return render_template('select.html')\n",
    "\n",
    "@app.route('/login', methods=['POST'])\n",
    "def do_admin_login():\n",
    "    if request.form['password'] == 'password' and request.form['username'] == 'admin':\n",
    "        session['logged_in'] = True\n",
    "    else:\n",
    "        flash('wrong password!')\n",
    "    return home()\n",
    "\n",
    "@app.route('/results')\n",
    "def do_something1():\n",
    "    return render_template('index.html')\n",
    "@app.route('/results1')\n",
    "def do_something2():\n",
    "    return render_template('index2.html')\n",
    "@app.route('/results2')\n",
    "def do_something3():\n",
    "    return render_template('index1.html')\n",
    "\n",
    "\n",
    "@app.route('/heart', methods=['POST'])\n",
    "def predict():\n",
    "\n",
    "    Age = int(request.form['Age'])\n",
    "    Sex = int(request.form['Sex'])\n",
    "    Chest = int(request.form['Chest'])\n",
    "    BP = int(request.form['BP'])\n",
    "    Serum = int(request.form['Serum'])\n",
    "    FBP = int(request.form['FBP'])\n",
    "    ECG = int(request.form['ECG'])\n",
    "    heartrate = int(request.form['heartrate'])\n",
    "    induced = int(request.form['induced'])\n",
    "    depression = int(request.form['depression'])\n",
    "    vessels = int(request.form['vessels'])\n",
    "    segmen = int(request.form['segmen'])\n",
    "    thallium = int(request.form['thallium'])\n",
    "    \n",
    "    input_data = [{'Age': Age, 'Sex': Sex, 'Chest': Chest, 'BP': BP, 'Serum': Serum, 'FBP': FBP, 'ECG': ECG, 'heartrate': heartrate, 'induced': induced,'depression':depression,'vessels':vessels,'segmen':segmen,'thallium':thallium}]\n",
    "    data = pd.DataFrame(input_data)\n",
    "    label = {0: 'No heart Disease', 1: 'Heart Disease'}\n",
    "    logreg = clf.predict(data)[0]\n",
    "    resfinal = label[logreg]\n",
    "    return render_template('heart.html', res=resfinal)\n",
    "    \n",
    "@app.route('/symptom', methods=['POST'])\n",
    "def predict2():\n",
    "\n",
    "    Abdomen_acute = int(request.form['Abdomen acute'])\n",
    "    Abdominal_tenderness = int(request.form['Abdominal tenderness'])\n",
    "    Abnormally_hard_consistency = int(request.form['Abnormally hard consistency'])\n",
    "    Abortion= int(request.form['Abortion'])\n",
    "    Abscess_bacterial = int(request.form['Abscess bacterial'])\n",
    "    Absences_finding = int(request.form['Absences finding'])\n",
    "    Achalasia = int(request.form['Achalasia'])\n",
    "    Agitation = int(request.form['Agitation'])\n",
    "    Air_fluid_level = int(request.form['Air fluid level'])\n",
    "    \n",
    "    input_data = [{'Abdomen acute': Abdomen_acute, 'Abdominal tenderness': Abdominal_tenderness, 'Abnormally hard consistency':Abnormally_hard_consistency, 'Abortion': Abortion, 'Abscess bacterial':Abscess_bacterial, 'Absences finding':Absences_finding, 'Achalasia':Achalasia, 'Agitation': Agitation, 'Air fluid level': Air_fluid_level}]\n",
    "    data = pd.DataFrame(input_data)\n",
    "    logreg = clf.predict(data)[0]\n",
    "    resfinal = logreg\n",
    "    return render_template('symptom.html', result=resfinal)\n",
    "    \n",
    "@app.route('/diet', methods=['POST'])\n",
    "def predict1():\n",
    "    Height_feet = int(request.form.get('Height1'))\n",
    "    Height_inches = int(request.form.get('Height2'))\n",
    "    Weight = int(request.form.get('Weight'))\n",
    "    totalHeight = (12 * Height_feet) + Height_inches\n",
    "    bmi = Weight * 703 / (totalHeight * totalHeight)\n",
    "\n",
    "    if bmi < 18.5:\n",
    "        BMIStatus = \"\"\"You are Underweight. Foods that should be included every day:\n",
    "1. Full-cream milk: 750 - 1000 ml (3 to 4 cups)\\n\n",
    "2. Meat, fish, eggs and other protein foods: 3-5 servings (90 to 150 g)\\n\n",
    "3. Bread and cereals: 8-12 servings (e.g. up to 6 cups of starch a day)\\n\n",
    "4. Fruit and vegetables: 3-5 servings\\n\n",
    "5. Fats and oils: 90 g (6 tablespoons)\\n\n",
    "6. Healthy desserts: 1-2 servings\\n\"\"\"\n",
    "    elif bmi < 24.9:\n",
    "        BMIStatus= \"\"\"You are Normal. Current diet plan is ok.\"\"\"\n",
    "    elif bmi < 29.9:\n",
    "        BMIStatus = \"\"\"You are Overweight.\\n\n",
    "1. Increase The Consumption Of Fruits And Vegetables\\n\n",
    "2. Limit The Intake Of Stimulants such as caffeine, alcohol, and refined sugar.\\n\n",
    "3. Do Not Skip Breakfast as is the most important meal of the day\\n\n",
    "4. Drink Plenty Of Water\\n\n",
    "5. Have Smaller Gaps Between The Meals\\n\n",
    "6. Do Not Starve\\n\n",
    "7. Restrict Your Calorie Intake\\n\n",
    "8. Remove Fat From Your Food\\n\n",
    "9. Eat Healthy Snacks\\n\"\"\"\n",
    "    else:\n",
    "        BMIStatus = \"\"\"You are Obese. Diet plan as follows:\\n\n",
    "            1. Cut your caloric intake by about 500 to 1,000 calories a day.\\n\n",
    "            2. Restrict carbohydrates -- particularly high-glycemic varieties that affect your blood sugar\\n\n",
    "            3. Cut back on portions to eat less food and balance your caloric intake.\\n\n",
    "            4. Combine Diet with Exercise\\n\"\"\"\n",
    "    \n",
    "    print(BMIStatus)\n",
    "\n",
    "    return render_template('diet.html', rs=BMIStatus)\n",
    "\n",
    "    \n",
    "\t\n",
    "if __name__ == \"__main__\":\n",
    "    app.secret_key = os.urandom(12)\n",
    "    app.run()"
   ]
  },
  {
   "cell_type": "code",
   "execution_count": null,
   "metadata": {
    "collapsed": true
   },
   "outputs": [],
   "source": []
  }
 ],
 "metadata": {
  "kernelspec": {
   "display_name": "Python 3",
   "language": "python",
   "name": "python3"
  },
  "language_info": {
   "codemirror_mode": {
    "name": "ipython",
    "version": 3
   },
   "file_extension": ".py",
   "mimetype": "text/x-python",
   "name": "python",
   "nbconvert_exporter": "python",
   "pygments_lexer": "ipython3",
   "version": "3.6.1"
  }
 },
 "nbformat": 4,
 "nbformat_minor": 2
}
